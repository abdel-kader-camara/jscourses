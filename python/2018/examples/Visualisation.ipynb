{
 "cells": [
  {
   "cell_type": "code",
   "execution_count": null,
   "metadata": {},
   "outputs": [],
   "source": [
    "from SPARQLWrapper import SPARQLWrapper, JSON\n",
    "\n",
    "sparql = SPARQLWrapper(\"http://query.wikidata.org/sparql\")\n",
    "sparql.setQuery(\"\"\"\n",
    "SELECT ?item ?label WHERE {\n",
    "  ?item wdt:P31 wd:Q9143;\n",
    "        rdfs:label ?label.\n",
    "  FILTER(lang(?label) = \"en\").\n",
    "}\n",
    "LIMIT 10\n",
    "\"\"\")\n",
    "sparql.setReturnFormat(JSON)\n",
    "results = sparql.query().convert()\n",
    "\n",
    "for result in results[\"results\"][\"bindings\"]:\n",
    "    print(result)"
   ]
  },
  {
   "cell_type": "code",
   "execution_count": null,
   "metadata": {},
   "outputs": [],
   "source": [
    "from SPARQLWrapper import SPARQLWrapper, JSON\n",
    "\n",
    "sparql = SPARQLWrapper(\"http://query.wikidata.org/sparql\")\n",
    "sparql.setQuery(\"\"\"\n",
    "SELECT ?item ?label WHERE {\n",
    "  ?item wdt:P31 wd:Q9143;\n",
    "        rdfs:label ?label.\n",
    "  FILTER(lang(?label) = \"en\").\n",
    "}\n",
    "LIMIT 10\n",
    "\"\"\")\n",
    "sparql.setReturnFormat(JSON)\n",
    "results = sparql.query().convert()\n",
    "\n",
    "for result in results[\"results\"][\"bindings\"]:\n",
    "    print(\"%s %s\" % ( result[\"item\"][\"value\"], result[\"label\"][\"value\"]))"
   ]
  },
  {
   "cell_type": "code",
   "execution_count": null,
   "metadata": {},
   "outputs": [],
   "source": [
    "import networkx as nx\n",
    "graph = nx.Graph()\n",
    "graph.add_node(1)\n",
    "graph.add_edge(1, 2)\n",
    "print(graph.number_of_nodes())\n",
    "print(graph.number_of_edges())\n",
    "print(graph.edges)\n",
    "print(graph.nodes)"
   ]
  },
  {
   "cell_type": "code",
   "execution_count": null,
   "metadata": {},
   "outputs": [],
   "source": [
    "import networkx as nx\n",
    "graph = nx.DiGraph()\n",
    "graph.add_node(1)\n",
    "graph.add_edge(1, 2)\n",
    "print(graph.number_of_nodes())\n",
    "print(graph.number_of_edges())\n",
    "print(graph.edges)\n",
    "print(graph.nodes)"
   ]
  },
  {
   "cell_type": "code",
   "execution_count": null,
   "metadata": {},
   "outputs": [],
   "source": [
    "import matplotlib.pyplot as plt\n",
    "graph = nx.DiGraph()\n",
    "graph.add_node(1)\n",
    "graph.add_edge(1, 2)\n",
    "nx.draw(graph, with_labels=True, font_weight='bold')\n",
    "plt.show()\n",
    "\n"
   ]
  },
  {
   "cell_type": "code",
   "execution_count": null,
   "metadata": {},
   "outputs": [],
   "source": [
    "from SPARQLWrapper import SPARQLWrapper, JSON\n",
    "from bokeh.io import show\n",
    "from bokeh.models import Range1d, Plot\n",
    "from bokeh.models.graphs import from_networkx\n",
    "import networkx as nx\n",
    "graph = nx.DiGraph()\n",
    "\n",
    "sparql = SPARQLWrapper(\"http://query.wikidata.org/sparql\")\n",
    "sparql.setQuery(\"\"\"\n",
    "SELECT DISTINCT ?label1 ?label2 WHERE {\n",
    "  [rdfs:label ?label1] wdt:P31 wd:Q9143;\n",
    "        wdt:P737 [rdfs:label ?label2]\n",
    "  FILTER(lang(?label1) = \"en\" && lang (?label2) = \"en\").\n",
    "}\n",
    "LIMIT 100\n",
    "\"\"\")\n",
    "sparql.setReturnFormat(JSON)\n",
    "results = sparql.query().convert()\n",
    "\n",
    "for result in results[\"results\"][\"bindings\"]:\n",
    "    graph.add_edge(result['label1']['value'], result['label2']['value'])\n",
    "    \n",
    "plot = Plot(x_range=Range1d(-2, 2), y_range=Range1d(-2, 2))\n",
    "\n",
    "# Create a Bokeh graph from the NetworkX input using nx.spring_layout\n",
    "pgraph = from_networkx(graph, nx.spring_layout, scale=1.8, center=(0,0))\n",
    "plot.renderers.append(pgraph)\n",
    "\n",
    "# Set some of the default node glyph (Circle) properties\n",
    "pgraph.node_renderer.glyph.update(size=20, fill_color=\"orange\")\n",
    "# Set some edge properties too\n",
    "pgraph.edge_renderer.glyph.line_dash = [2,2]\n",
    "\n",
    "show(plot)"
   ]
  },
  {
   "cell_type": "code",
   "execution_count": null,
   "metadata": {},
   "outputs": [],
   "source": [
    "from SPARQLWrapper import SPARQLWrapper, JSON\n",
    "import networkx as nx\n",
    "import matplotlib.pyplot as plt\n",
    "graph = nx.DiGraph()\n",
    "\n",
    "sparql = SPARQLWrapper(\"http://query.wikidata.org/sparql\")\n",
    "sparql.setQuery(\"\"\"\n",
    "SELECT DISTINCT ?label1 ?label2 WHERE {\n",
    "  [rdfs:label ?label1] wdt:P31 wd:Q9143;\n",
    "        wdt:P737 [rdfs:label ?label2]\n",
    "  FILTER(lang(?label1) = \"en\" && lang (?label2) = \"en\").\n",
    "}\n",
    "LIMIT 20\n",
    "\"\"\")\n",
    "sparql.setReturnFormat(JSON)\n",
    "results = sparql.query().convert()\n",
    "\n",
    "for result in results[\"results\"][\"bindings\"]:\n",
    "    graph.add_edge(result['label1']['value'], result['label2']['value'])\n",
    "    \n",
    "nx.draw(graph, with_labels=True, font_weight='bold')\n",
    "plt.show()\n"
   ]
  },
  {
   "cell_type": "code",
   "execution_count": null,
   "metadata": {},
   "outputs": [],
   "source": []
  },
  {
   "cell_type": "code",
   "execution_count": null,
   "metadata": {},
   "outputs": [],
   "source": []
  }
 ],
 "metadata": {
  "kernelspec": {
   "display_name": "Python 3",
   "language": "python",
   "name": "python3"
  },
  "language_info": {
   "codemirror_mode": {
    "name": "ipython",
    "version": 3
   },
   "file_extension": ".py",
   "mimetype": "text/x-python",
   "name": "python",
   "nbconvert_exporter": "python",
   "pygments_lexer": "ipython3",
   "version": "3.6.3"
  }
 },
 "nbformat": 4,
 "nbformat_minor": 2
}
