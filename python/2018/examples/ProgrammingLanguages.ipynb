{
 "cells": [
  {
   "cell_type": "markdown",
   "metadata": {},
   "source": [
    "# Getting information from programming languages from Wikidata"
   ]
  },
  {
   "cell_type": "markdown",
   "metadata": {},
   "source": [
    "## Introduction\n",
    "\n",
    "Wikidata is a multilingual, structured and open knowledge base. It consists of information related to persons, events, scientific articles, places etc. These information can be easily extracted and analysed by using a query service called SPARQL endpoint. This notebook shows how to get information related to programming languages and how to analyse and visualize this information.\n",
    "\n",
    "## SPARQL\n",
    "Wikidata can export its knowledge base in the form of triples, i.e., in the form of Subject property value. Take for example to say C, [C](https://www.wikidata.org/wiki/Q15777)  is a programming language, following statements are used\n",
    "\n",
    "Q15777 P31 Q9143.\n",
    "\n",
    "where Q15777 corresponds to identifier of C on wikidata, Q9143 corresponds to the identifier of the concept programming language and P31 corresponds to the identifier of the relationship 'is a' or 'instance of'. However, if we include the namespace, the above triple becomes\n",
    "\n",
    "wd:Q15777 wdt:P31 wd:Q9143\n",
    "\n",
    "where wd corresponds to the wikidata entity namespace and wdt corresponds to the wikidata type.\n",
    "\n",
    "Wikidata provides a SPARQL endpoint to extract a subset of these triples. Take for example, if we are interested to get all the programming languages in the Wikidata, we may use a variable in place of wd:Q15777 in the following way.\n",
    "\n",
    "?item wdt:P31 wd:Q9143.\n",
    "\n",
    "Wikidata SPARQL query engine will match the variable 'item' with the triple entries present in the knowledge base and give the result.\n",
    "\n",
    "The following program will give you 10 programming languages. \n"
   ]
  },
  {
   "cell_type": "code",
   "execution_count": 3,
   "metadata": {},
   "outputs": [
    {
     "name": "stdout",
     "output_type": "stream",
     "text": [
      "{'item': {'type': 'uri', 'value': 'http://www.wikidata.org/entity/Q59'}}\n",
      "{'item': {'type': 'uri', 'value': 'http://www.wikidata.org/entity/Q2366'}}\n",
      "{'item': {'type': 'uri', 'value': 'http://www.wikidata.org/entity/Q2378'}}\n",
      "{'item': {'type': 'uri', 'value': 'http://www.wikidata.org/entity/Q2407'}}\n",
      "{'item': {'type': 'uri', 'value': 'http://www.wikidata.org/entity/Q5288'}}\n",
      "{'item': {'type': 'uri', 'value': 'http://www.wikidata.org/entity/Q5301'}}\n",
      "{'item': {'type': 'uri', 'value': 'http://www.wikidata.org/entity/Q13743'}}\n",
      "{'item': {'type': 'uri', 'value': 'http://www.wikidata.org/entity/Q15777'}}\n",
      "{'item': {'type': 'uri', 'value': 'http://www.wikidata.org/entity/Q16340'}}\n",
      "{'item': {'type': 'uri', 'value': 'http://www.wikidata.org/entity/Q20479'}}\n"
     ]
    }
   ],
   "source": [
    "from SPARQLWrapper import SPARQLWrapper, JSON\n",
    "\n",
    "sparql = SPARQLWrapper(\"http://query.wikidata.org/sparql\")\n",
    "sparql.setQuery(\"\"\"\n",
    "SELECT ?item WHERE {\n",
    "  ?item wdt:P31 wd:Q9143;\n",
    "}\n",
    "LIMIT 10\n",
    "\"\"\")\n",
    "sparql.setReturnFormat(JSON)\n",
    "results = sparql.query().convert()\n",
    "\n",
    "for result in results[\"results\"][\"bindings\"]:\n",
    "    print(result)"
   ]
  },
  {
   "cell_type": "markdown",
   "metadata": {},
   "source": [
    "However, we may be interested in the English labels of these programming languages. So we make use of another property called 'rdf:label' where rdf is the namespace and label is the property. However, we want to limit labels to those in English language.\n",
    "\n",
    "?item rdfs:label ?label. \n",
    "FILTER(lang(?label) = \"en\")\n",
    "\n",
    "where FILTER helps us to filter the labels out and lang() gives us the language code of the label. In our case \"en\" is the language code of English on Wikidata."
   ]
  },
  {
   "cell_type": "code",
   "execution_count": 6,
   "metadata": {},
   "outputs": [
    {
     "name": "stdout",
     "output_type": "stream",
     "text": [
      "PHP\n",
      "IBM PL/S\n",
      "PL/pgSQL\n",
      "POW!\n",
      "Perl 6\n",
      "SQL:2008\n",
      "P′′\n",
      "URBI\n",
      "Unified Parallel C\n",
      "Dylan\n"
     ]
    }
   ],
   "source": [
    "from SPARQLWrapper import SPARQLWrapper, JSON\n",
    "\n",
    "sparql = SPARQLWrapper(\"http://query.wikidata.org/sparql\")\n",
    "sparql.setQuery(\"\"\"\n",
    "SELECT ?label WHERE {\n",
    "  ?item wdt:P31 wd:Q9143.\n",
    "  ?item rdfs:label ?label. \n",
    "  FILTER(lang(?label) = \"en\")\n",
    "}\n",
    "LIMIT 10\n",
    "\"\"\")\n",
    "sparql.setReturnFormat(JSON)\n",
    "results = sparql.query().convert()\n",
    "\n",
    "for result in results[\"results\"][\"bindings\"]:\n",
    "    print(result[\"label\"][\"value\"])"
   ]
  },
  {
   "cell_type": "markdown",
   "metadata": {},
   "source": [
    "Continuing with our example, we may also be interested in other property values of the programming languages, like the year on which it was released. So we add \n",
    "\n",
    "?item wdt:P571 ?date.\n",
    "\n",
    "to our query and we make use of YEAR() to get the year from the date.\n"
   ]
  },
  {
   "cell_type": "code",
   "execution_count": 8,
   "metadata": {
    "scrolled": true
   },
   "outputs": [
    {
     "name": "stdout",
     "output_type": "stream",
     "text": [
      "ENIAC coding system :  1943\n",
      "ENIAC Short Code :  1946\n",
      "Von Neumann and Goldstine graphing system :  1946\n",
      "ARC Assembly :  1947\n",
      "Plankalkül :  1948\n",
      "CPC Coding scheme :  1948\n",
      "Curry notation system :  1948\n",
      "Short Code :  1949\n",
      "assembly language :  1949\n",
      "Short Code :  1950\n"
     ]
    }
   ],
   "source": [
    "from SPARQLWrapper import SPARQLWrapper, JSON\n",
    "\n",
    "sparql = SPARQLWrapper(\"http://query.wikidata.org/sparql\")\n",
    "sparql.setQuery(\"\"\"\n",
    "SELECT ?item ?label (YEAR(?date) as ?year) WHERE {\n",
    "  ?item wdt:P31 wd:Q9143.\n",
    "  ?item rdfs:label ?label.\n",
    "  ?item wdt:P571 ?date.\n",
    "  FILTER(lang(?label) = \"en\").\n",
    "}\n",
    "ORDER by ?year\n",
    "LIMIT 10\n",
    "\"\"\")\n",
    "sparql.setReturnFormat(JSON)\n",
    "results = sparql.query().convert()\n",
    "\n",
    "for result in results[\"results\"][\"bindings\"]:\n",
    "    print(result[\"label\"][\"value\"],\": \", result[\"year\"][\"value\"])"
   ]
  },
  {
   "cell_type": "code",
   "execution_count": null,
   "metadata": {},
   "outputs": [],
   "source": []
  }
 ],
 "metadata": {
  "kernelspec": {
   "display_name": "Python 3",
   "language": "python",
   "name": "python3"
  },
  "language_info": {
   "codemirror_mode": {
    "name": "ipython",
    "version": 3
   },
   "file_extension": ".py",
   "mimetype": "text/x-python",
   "name": "python",
   "nbconvert_exporter": "python",
   "pygments_lexer": "ipython3",
   "version": "3.6.3"
  }
 },
 "nbformat": 4,
 "nbformat_minor": 2
}
