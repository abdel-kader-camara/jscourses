{
 "cells": [
  {
   "cell_type": "code",
   "execution_count": 7,
   "metadata": {},
   "outputs": [
    {
     "name": "stdout",
     "output_type": "stream",
     "text": [
      "{\"login\": \"johnsamuelwrites\", \"id\": 8275121, \"node_id\": \"MDQ6VXNlcjgyNzUxMjE=\", \"avatar_url\": \"https://avatars1.githubusercontent.com/u/8275121?v=4\", \"gravatar_id\": \"\", \"url\": \"https://api.github.com/users/johnsamuelwrites\", \"html_url\": \"https://github.com/johnsamuelwrites\", \"followers_url\": \"https://api.github.com/users/johnsamuelwrites/followers\", \"following_url\": \"https://api.github.com/users/johnsamuelwrites/following{/other_user}\", \"gists_url\": \"https://api.github.com/users/johnsamuelwrites/gists{/gist_id}\", \"starred_url\": \"https://api.github.com/users/johnsamuelwrites/starred{/owner}{/repo}\", \"subscriptions_url\": \"https://api.github.com/users/johnsamuelwrites/subscriptions\", \"organizations_url\": \"https://api.github.com/users/johnsamuelwrites/orgs\", \"repos_url\": \"https://api.github.com/users/johnsamuelwrites/repos\", \"events_url\": \"https://api.github.com/users/johnsamuelwrites/events{/privacy}\", \"received_events_url\": \"https://api.github.com/users/johnsamuelwrites/received_events\", \"type\": \"User\", \"site_admin\": false, \"name\": \"John Samuel\", \"company\": null, \"blog\": \"https://johnsamuel.info\", \"location\": \"Lyon, France\", \"email\": null, \"hireable\": null, \"bio\": null, \"public_repos\": 8, \"public_gists\": 7, \"followers\": 10, \"following\": 0, \"created_at\": \"2014-07-26T12:40:38Z\", \"updated_at\": \"2018-10-22T18:00:09Z\"}\n"
     ]
    }
   ],
   "source": [
    "import requests\n",
    "url = \"https://api.github.com/users/johnsamuelwrites\"\n",
    "\n",
    "response = requests.get(url)\n",
    "print(response.json())"
   ]
  },
  {
   "cell_type": "code",
   "execution_count": 11,
   "metadata": {},
   "outputs": [
    {
     "name": "stdout",
     "output_type": "stream",
     "text": [
      "{\n",
      "    \"avatar_url\": \"https://avatars1.githubusercontent.com/u/8275121?v=4\",\n",
      "    \"bio\": null,\n",
      "    \"blog\": \"https://johnsamuel.info\",\n",
      "    \"company\": null,\n",
      "    \"created_at\": \"2014-07-26T12:40:38Z\",\n",
      "    \"email\": null,\n",
      "    \"events_url\": \"https://api.github.com/users/johnsamuelwrites/events{/privacy}\",\n",
      "    \"followers\": 10,\n",
      "    \"followers_url\": \"https://api.github.com/users/johnsamuelwrites/followers\",\n",
      "    \"following\": 0,\n",
      "    \"following_url\": \"https://api.github.com/users/johnsamuelwrites/following{/other_user}\",\n",
      "    \"gists_url\": \"https://api.github.com/users/johnsamuelwrites/gists{/gist_id}\",\n",
      "    \"gravatar_id\": \"\",\n",
      "    \"hireable\": null,\n",
      "    \"html_url\": \"https://github.com/johnsamuelwrites\",\n",
      "    \"id\": 8275121,\n",
      "    \"location\": \"Lyon, France\",\n",
      "    \"login\": \"johnsamuelwrites\",\n",
      "    \"name\": \"John Samuel\",\n",
      "    \"node_id\": \"MDQ6VXNlcjgyNzUxMjE=\",\n",
      "    \"organizations_url\": \"https://api.github.com/users/johnsamuelwrites/orgs\",\n",
      "    \"public_gists\": 7,\n",
      "    \"public_repos\": 8,\n",
      "    \"received_events_url\": \"https://api.github.com/users/johnsamuelwrites/received_events\",\n",
      "    \"repos_url\": \"https://api.github.com/users/johnsamuelwrites/repos\",\n",
      "    \"site_admin\": false,\n",
      "    \"starred_url\": \"https://api.github.com/users/johnsamuelwrites/starred{/owner}{/repo}\",\n",
      "    \"subscriptions_url\": \"https://api.github.com/users/johnsamuelwrites/subscriptions\",\n",
      "    \"type\": \"User\",\n",
      "    \"updated_at\": \"2018-10-22T18:00:09Z\",\n",
      "    \"url\": \"https://api.github.com/users/johnsamuelwrites\"\n",
      "}\n"
     ]
    }
   ],
   "source": [
    "import requests\n",
    "import json\n",
    "url = \"https://api.github.com/users/johnsamuelwrites\"\n",
    "\n",
    "response = requests.get(url)\n",
    "print(json.dumps(response.json(), indent=4, sort_keys=True))"
   ]
  },
  {
   "cell_type": "code",
   "execution_count": 12,
   "metadata": {},
   "outputs": [
    {
     "name": "stdout",
     "output_type": "stream",
     "text": [
      "{\n",
      "    \"authorizations_url\": \"https://api.github.com/authorizations\",\n",
      "    \"code_search_url\": \"https://api.github.com/search/code?q={query}{&page,per_page,sort,order}\",\n",
      "    \"commit_search_url\": \"https://api.github.com/search/commits?q={query}{&page,per_page,sort,order}\",\n",
      "    \"current_user_authorizations_html_url\": \"https://github.com/settings/connections/applications{/client_id}\",\n",
      "    \"current_user_repositories_url\": \"https://api.github.com/user/repos{?type,page,per_page,sort}\",\n",
      "    \"current_user_url\": \"https://api.github.com/user\",\n",
      "    \"emails_url\": \"https://api.github.com/user/emails\",\n",
      "    \"emojis_url\": \"https://api.github.com/emojis\",\n",
      "    \"events_url\": \"https://api.github.com/events\",\n",
      "    \"feeds_url\": \"https://api.github.com/feeds\",\n",
      "    \"followers_url\": \"https://api.github.com/user/followers\",\n",
      "    \"following_url\": \"https://api.github.com/user/following{/target}\",\n",
      "    \"gists_url\": \"https://api.github.com/gists{/gist_id}\",\n",
      "    \"hub_url\": \"https://api.github.com/hub\",\n",
      "    \"issue_search_url\": \"https://api.github.com/search/issues?q={query}{&page,per_page,sort,order}\",\n",
      "    \"issues_url\": \"https://api.github.com/issues\",\n",
      "    \"keys_url\": \"https://api.github.com/user/keys\",\n",
      "    \"notifications_url\": \"https://api.github.com/notifications\",\n",
      "    \"organization_repositories_url\": \"https://api.github.com/orgs/{org}/repos{?type,page,per_page,sort}\",\n",
      "    \"organization_url\": \"https://api.github.com/orgs/{org}\",\n",
      "    \"public_gists_url\": \"https://api.github.com/gists/public\",\n",
      "    \"rate_limit_url\": \"https://api.github.com/rate_limit\",\n",
      "    \"repository_search_url\": \"https://api.github.com/search/repositories?q={query}{&page,per_page,sort,order}\",\n",
      "    \"repository_url\": \"https://api.github.com/repos/{owner}/{repo}\",\n",
      "    \"starred_gists_url\": \"https://api.github.com/gists/starred\",\n",
      "    \"starred_url\": \"https://api.github.com/user/starred{/owner}{/repo}\",\n",
      "    \"team_url\": \"https://api.github.com/teams\",\n",
      "    \"user_organizations_url\": \"https://api.github.com/user/orgs\",\n",
      "    \"user_repositories_url\": \"https://api.github.com/users/{user}/repos{?type,page,per_page,sort}\",\n",
      "    \"user_search_url\": \"https://api.github.com/search/users?q={query}{&page,per_page,sort,order}\",\n",
      "    \"user_url\": \"https://api.github.com/users/{user}\"\n",
      "}\n"
     ]
    }
   ],
   "source": [
    "import requests\n",
    "import json\n",
    "url = \"https://api.github.com/\"\n",
    "\n",
    "response = requests.get(url)\n",
    "print(json.dumps(response.json(), indent=4, sort_keys=True))"
   ]
  },
  {
   "cell_type": "code",
   "execution_count": null,
   "metadata": {},
   "outputs": [],
   "source": []
  }
 ],
 "metadata": {
  "kernelspec": {
   "display_name": "Python 3",
   "language": "python",
   "name": "python3"
  },
  "language_info": {
   "codemirror_mode": {
    "name": "ipython",
    "version": 3
   },
   "file_extension": ".py",
   "mimetype": "text/x-python",
   "name": "python",
   "nbconvert_exporter": "python",
   "pygments_lexer": "ipython3",
   "version": "3.6.3"
  }
 },
 "nbformat": 4,
 "nbformat_minor": 2
}
