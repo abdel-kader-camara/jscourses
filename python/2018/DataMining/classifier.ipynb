{
 "cells": [
  {
   "cell_type": "code",
   "execution_count": 1,
   "metadata": {},
   "outputs": [
    {
     "name": "stdout",
     "output_type": "stream",
     "text": [
      "[0 1]\n"
     ]
    }
   ],
   "source": [
    "import numpy as np\n",
    "import matplotlib.pyplot as plot\n",
    "from sklearn.linear_model import Perceptron\n",
    "\n",
    "numarray = np.array([[0,0,0,0], [0,0,0,1], [0,0,1,0], [0,0,1,1],\n",
    "                     [0,1,0,0], [0,1,0,1], [0,1,1,0], [0,1,1,1],\n",
    "                     [1,0,0,0], [1,0,0,1], [1,0,1,0], [1,0,1,1],\n",
    "                     [1,1,0,0], [1,1,0,1], [1,1,1,0], [1,1,1,1]])\n",
    "orresult = np.array([0, 0, 0, 0,\n",
    "                     0, 0, 0, 0,\n",
    "                     1, 1, 1, 1,\n",
    "                     1, 1, 1, 1])\n",
    "\n",
    "perceptron = Perceptron(max_iter=1000)\n",
    "perceptron.fit(numarray, orresult)\n",
    "\n",
    "x_predict = np.array([[0,1,0,1], [1,0,1,1] ])\n",
    "\n",
    "y_predict = perceptron.predict(x_predict)\n",
    "print(y_predict)"
   ]
  },
  {
   "cell_type": "code",
   "execution_count": 2,
   "metadata": {},
   "outputs": [
    {
     "name": "stdout",
     "output_type": "stream",
     "text": [
      "[0 1 1 0]\n"
     ]
    }
   ],
   "source": [
    "import numpy as np\n",
    "import matplotlib.pyplot as plot\n",
    "from sklearn.linear_model import Perceptron\n",
    "\n",
    "numarray = np.array([[0,0,0,0], [0,0,0,1], \n",
    "                     [0,1,0,0], [0,1,1,1],\n",
    "                     [1,0,0,1], [1,0,1,0], \n",
    "                     [1,1,1,0], [1,1,1,1]])\n",
    "result = np.array([0, 0, \n",
    "                     0, 0, \n",
    "                     1, 1,\n",
    "                     1, 1])\n",
    "\n",
    "perceptron = Perceptron(max_iter=1000)\n",
    "perceptron.fit(numarray, result)\n",
    "\n",
    "x_predict = np.array([[0,1,0,1], [1,0,1,1], [1,1,0,0], [0,1,0,1]])\n",
    "\n",
    "y_predict = perceptron.predict(x_predict)\n",
    "print(y_predict)"
   ]
  },
  {
   "cell_type": "code",
   "execution_count": 3,
   "metadata": {},
   "outputs": [
    {
     "name": "stdout",
     "output_type": "stream",
     "text": [
      "[0 1 1 0]\n"
     ]
    }
   ],
   "source": [
    "import numpy as np\n",
    "import matplotlib.pyplot as plot\n",
    "from sklearn.neural_network import MLPClassifier\n",
    "\n",
    "numarray = np.array([[0,0,0,0], [0,0,0,1], \n",
    "                     [0,1,0,0], [0,1,1,1],\n",
    "                     [1,0,0,1], [1,0,1,0], \n",
    "                     [1,1,1,0], [1,1,1,1]])\n",
    "\n",
    "result = np.array([0, 0, \n",
    "                   0, 0, \n",
    "                   1, 1,\n",
    "                   1, 1])\n",
    "\n",
    "mlpclassifier = MLPClassifier(alpha=2, max_iter=1000)\n",
    "mlpclassifier.fit(numarray, result)\n",
    "\n",
    "x_predict = np.array([[0,1,0,1], [1,0,1,1], [1,1,0,0], [0,1,0,1]])\n",
    "\n",
    "y_predict = mlpclassifier.predict(x_predict)\n",
    "print(y_predict)"
   ]
  },
  {
   "cell_type": "code",
   "execution_count": 4,
   "metadata": {},
   "outputs": [
    {
     "name": "stdout",
     "output_type": "stream",
     "text": [
      "[0 1 1 0]\n"
     ]
    }
   ],
   "source": [
    "import numpy as np\n",
    "import matplotlib.pyplot as plot\n",
    "from sklearn import datasets, svm, metrics\n",
    "\n",
    "numarray = numarray = np.array([[0,0,0,0], [0,0,0,1], \n",
    "                     [0,1,0,0], [0,1,1,1],\n",
    "                     [1,0,0,1], [1,0,1,0], \n",
    "                     [1,1,1,0], [1,1,1,1]])\n",
    "\n",
    "result = np.array([0, 0, \n",
    "                   0, 0, \n",
    "                   1, 1,\n",
    "                   1, 1]) \n",
    "\n",
    "svcclassifier = svm.SVC(gamma=0.001, C=100.)\n",
    "svcclassifier.fit(numarray, result)\n",
    "\n",
    "x_predict = np.array([[0,1,0,1], [1,0,1,1], [1,1,0,0], [0,1,0,1]])\n",
    "\n",
    "y_predict = svcclassifier.predict(x_predict)\n",
    "print(y_predict)"
   ]
  },
  {
   "cell_type": "code",
   "execution_count": null,
   "metadata": {},
   "outputs": [],
   "source": []
  }
 ],
 "metadata": {
  "kernelspec": {
   "display_name": "Python 3",
   "language": "python",
   "name": "python3"
  },
  "language_info": {
   "codemirror_mode": {
    "name": "ipython",
    "version": 3
   },
   "file_extension": ".py",
   "mimetype": "text/x-python",
   "name": "python",
   "nbconvert_exporter": "python",
   "pygments_lexer": "ipython3",
   "version": "3.6.7"
  }
 },
 "nbformat": 4,
 "nbformat_minor": 2
}
